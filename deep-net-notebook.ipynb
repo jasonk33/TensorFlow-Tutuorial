{
 "cells": [
  {
   "cell_type": "code",
   "execution_count": 1,
   "metadata": {
    "collapsed": true
   },
   "outputs": [],
   "source": [
    "import tensorflow as tf \n",
    "from tensorflow.examples.tutorials.mnist import input_data"
   ]
  },
  {
   "cell_type": "code",
   "execution_count": 2,
   "metadata": {},
   "outputs": [
    {
     "name": "stdout",
     "output_type": "stream",
     "text": [
      "Extracting /tmp/data/train-images-idx3-ubyte.gz\n",
      "Extracting /tmp/data/train-labels-idx1-ubyte.gz\n",
      "Extracting /tmp/data/t10k-images-idx3-ubyte.gz\n",
      "Extracting /tmp/data/t10k-labels-idx1-ubyte.gz\n"
     ]
    }
   ],
   "source": [
    "mnist = input_data.read_data_sets(\"/tmp/data/\", one_hot=True)\n",
    "\n",
    "n_nodes_hl1 = 500\n",
    "n_nodes_hl2 = 500\n",
    "n_nodes_hl3 = 500\n",
    "\n",
    "n_classes = 10\n",
    "batch_size = 100\n",
    "\n",
    "# height x width\n",
    "x = tf.placeholder('float',[None, 784])\n",
    "y = tf.placeholder('float')"
   ]
  },
  {
   "cell_type": "code",
   "execution_count": 3,
   "metadata": {
    "collapsed": true
   },
   "outputs": [],
   "source": [
    "def neural_network_model(data):\n",
    "\n",
    "\thidden_1_layer = {'weights':tf.Variable(tf.random_normal([784, n_nodes_hl1])),\n",
    "\t\t\t\t\t   'biases':tf.Variable(tf.random_normal([n_nodes_hl1]))}\n",
    "\n",
    "\thidden_2_layer = {'weights':tf.Variable(tf.random_normal([n_nodes_hl1, n_nodes_hl2])),\n",
    "\t\t\t\t\t   'biases':tf.Variable(tf.random_normal([n_nodes_hl2]))}\n",
    "\n",
    "\thidden_3_layer = {'weights':tf.Variable(tf.random_normal([n_nodes_hl2, n_nodes_hl3])),\n",
    "\t\t\t\t\t   'biases':tf.Variable(tf.random_normal([n_nodes_hl3]))}\n",
    "\n",
    "\toutput_layer = {'weights':tf.Variable(tf.random_normal([n_nodes_hl3, n_classes])),\n",
    "\t\t\t\t\t   'biases':tf.Variable(tf.random_normal([n_classes]))}\n",
    "\n",
    "\t# (input_data * weights) + biases\n",
    "\n",
    "\tl1 = tf.add(tf.matmul(data, hidden_1_layer['weights']), hidden_1_layer['biases'])\n",
    "\tl1 = tf.nn.relu(l1)\n",
    "\n",
    "\tl2 = tf.add(tf.matmul(l1, hidden_2_layer['weights']), hidden_2_layer['biases'])\n",
    "\tl2 = tf.nn.relu(l2)\n",
    "\n",
    "\tl3 = tf.add(tf.matmul(l2, hidden_3_layer['weights']), hidden_3_layer['biases'])\n",
    "\tl3 = tf.nn.relu(l3)\n",
    "\n",
    "\toutput = tf.matmul(l3, output_layer['weights']) + output_layer['biases']\n",
    "\n",
    "\treturn output"
   ]
  },
  {
   "cell_type": "code",
   "execution_count": 4,
   "metadata": {
    "collapsed": true
   },
   "outputs": [],
   "source": [
    "def train_neural_network(x):\n",
    "\tprediction = neural_network_model(x)\n",
    "\tcost = tf.reduce_mean( tf.nn.softmax_cross_entropy_with_logits(logits=prediction,labels=y) )\n",
    "\toptimizer = tf.train.AdamOptimizer().minimize(cost)\n",
    "\n",
    "\thm_epochs = 10\n",
    "\n",
    "\twith tf.Session() as sess:\n",
    "\t\tsess.run(tf.initialize_all_variables())\n",
    "\n",
    "\t\tfor epoch in range(hm_epochs):\n",
    "\t\t\tepoch_loss = 0\n",
    "\t\t\tfor _ in range(int(mnist.train.num_examples/batch_size)):\n",
    "\t\t\t\tepoch_x, epoch_y = mnist.train.next_batch(batch_size)\n",
    "\t\t\t\t_, c = sess.run([optimizer, cost], feed_dict = {x: epoch_x, y: epoch_y})\n",
    "\t\t\t\tepoch_loss += c\n",
    "\t\t\tprint('Epoch', epoch, 'completed out of', hm_epochs,'loss:',epoch_loss)\n",
    "\n",
    "\t\tcorrect = tf.equal(tf.argmax(prediction,1), tf.argmax(y,1))\n",
    "\t\taccuracy = tf.reduce_mean(tf.cast(correct,'float'))\n",
    "\t\tprint('Accuracy:',accuracy.eval({x:mnist.test.images, y:mnist.test.labels}))"
   ]
  },
  {
   "cell_type": "code",
   "execution_count": 5,
   "metadata": {},
   "outputs": [
    {
     "name": "stdout",
     "output_type": "stream",
     "text": [
      "WARNING:tensorflow:From <ipython-input-4-b599f531d7e3>:9: initialize_all_variables (from tensorflow.python.ops.variables) is deprecated and will be removed after 2017-03-02.\n",
      "Instructions for updating:\n",
      "Use `tf.global_variables_initializer` instead.\n",
      "Epoch 0 completed out of 10 loss: 1657291.85852\n",
      "Epoch 1 completed out of 10 loss: 394179.438351\n",
      "Epoch 2 completed out of 10 loss: 212747.103806\n",
      "Epoch 3 completed out of 10 loss: 134062.167099\n",
      "Epoch 4 completed out of 10 loss: 77691.539256\n",
      "Epoch 5 completed out of 10 loss: 49504.0725734\n",
      "Epoch 6 completed out of 10 loss: 30285.6896812\n",
      "Epoch 7 completed out of 10 loss: 26827.2456114\n",
      "Epoch 8 completed out of 10 loss: 19757.1922859\n",
      "Epoch 9 completed out of 10 loss: 18727.8970704\n",
      "Accuracy: 0.9465\n"
     ]
    }
   ],
   "source": [
    "train_neural_network(x)"
   ]
  },
  {
   "cell_type": "code",
   "execution_count": null,
   "metadata": {
    "collapsed": true
   },
   "outputs": [],
   "source": []
  }
 ],
 "metadata": {
  "kernelspec": {
   "display_name": "Python 3",
   "language": "python",
   "name": "python3"
  },
  "language_info": {
   "codemirror_mode": {
    "name": "ipython",
    "version": 3
   },
   "file_extension": ".py",
   "mimetype": "text/x-python",
   "name": "python",
   "nbconvert_exporter": "python",
   "pygments_lexer": "ipython3",
   "version": "3.6.1"
  },
  "varInspector": {
   "cols": {
    "lenName": 16,
    "lenType": 16,
    "lenVar": 40
   },
   "kernels_config": {
    "python": {
     "delete_cmd_postfix": "",
     "delete_cmd_prefix": "del ",
     "library": "var_list.py",
     "varRefreshCmd": "print(var_dic_list())"
    },
    "r": {
     "delete_cmd_postfix": ") ",
     "delete_cmd_prefix": "rm(",
     "library": "var_list.r",
     "varRefreshCmd": "cat(var_dic_list()) "
    }
   },
   "oldHeight": 123.18181799999999,
   "position": {
    "height": "40px",
    "left": "1035.45px",
    "right": "20px",
    "top": "120px",
    "width": "250px"
   },
   "types_to_exclude": [
    "module",
    "function",
    "builtin_function_or_method",
    "instance",
    "_Feature"
   ],
   "varInspector_section_display": "none",
   "window_display": true
  }
 },
 "nbformat": 4,
 "nbformat_minor": 2
}
